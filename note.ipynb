{
 "cells": [
  {
   "cell_type": "code",
   "execution_count": 23,
   "metadata": {},
   "outputs": [],
   "source": [
    "import pandas as pd\n",
    "import matplotlib.pyplot as plt\n",
    "\n",
    "import re\n",
    "import nltk\n",
    "from collections import Counter\n",
    "from typing import List\n",
    "from pymorphy3 import MorphAnalyzer\n",
    "from nltk.corpus import stopwords"
   ]
  },
  {
   "cell_type": "code",
   "execution_count": 3,
   "metadata": {},
   "outputs": [],
   "source": [
    "patterns = \"[A-Za-z0-9!#$%&'()*+,./:;<=>?@[\\]^_`{|}~—\\\"\\-]+\"\n",
    "stopwords_ru = stopwords.words(\"russian\")\n",
    "morph = MorphAnalyzer()"
   ]
  },
  {
   "cell_type": "code",
   "execution_count": 4,
   "metadata": {},
   "outputs": [],
   "source": [
    "df_csv = pd.read_csv(r\"C:\\Users\\natal\\lab_2_python\\annotation1.csv\")\n",
    "texts = []\n",
    "for absolute_path, rating in zip(df_csv['absolute_path'], df_csv['rating']):\n",
    "    with open(absolute_path, 'r', encoding='utf-8') as file:\n",
    "        text = file.read()\n",
    "        texts.append((text, rating))\n",
    "        \n",
    "df = pd.DataFrame(texts, columns=['review', 'rating'])"
   ]
  },
  {
   "cell_type": "code",
   "execution_count": 5,
   "metadata": {},
   "outputs": [
    {
     "name": "stdout",
     "output_type": "stream",
     "text": [
      "                                                 review  rating\n",
      "0     Архимаг ищет невесту\\nМного читала академок, р...       1\n",
      "1     Манюня\\nВсё, что нужно знать об уровне юмора э...       1\n",
      "2     Удивительный Александр и крылатые кошки\\nПочем...       1\n",
      "3     Бездушный принц\\nЗахотелось прочитать какую-ни...       1\n",
      "4     Душа осьминога. Тайны сознания удивительного с...       1\n",
      "...                                                 ...     ...\n",
      "5000  Спаси меня от холода ночи\\nЖизнь деревни Каслд...       5\n",
      "5001  Витаминка\\nКаково это быть купидоном? Это волш...       5\n",
      "5002  Цветок в мужской академии магии\\nХотела бы рас...       5\n",
      "5003  Господин Неудача\\nПосле загадочной гибели роди...       5\n",
      "5004  Кай\\n\"Прежде чем войти куда-то, убедись, что т...       5\n",
      "\n",
      "[5005 rows x 2 columns]\n"
     ]
    }
   ],
   "source": [
    "print(df)"
   ]
  },
  {
   "cell_type": "code",
   "execution_count": 6,
   "metadata": {},
   "outputs": [
    {
     "name": "stdout",
     "output_type": "stream",
     "text": [
      "review    0\n",
      "rating    0\n",
      "dtype: int64\n"
     ]
    },
    {
     "data": {
      "text/html": [
       "<div>\n",
       "<style scoped>\n",
       "    .dataframe tbody tr th:only-of-type {\n",
       "        vertical-align: middle;\n",
       "    }\n",
       "\n",
       "    .dataframe tbody tr th {\n",
       "        vertical-align: top;\n",
       "    }\n",
       "\n",
       "    .dataframe thead th {\n",
       "        text-align: right;\n",
       "    }\n",
       "</style>\n",
       "<table border=\"1\" class=\"dataframe\">\n",
       "  <thead>\n",
       "    <tr style=\"text-align: right;\">\n",
       "      <th></th>\n",
       "      <th>review</th>\n",
       "      <th>rating</th>\n",
       "    </tr>\n",
       "  </thead>\n",
       "  <tbody>\n",
       "    <tr>\n",
       "      <th>0</th>\n",
       "      <td>Архимаг ищет невесту\\nМного читала академок, р...</td>\n",
       "      <td>1</td>\n",
       "    </tr>\n",
       "    <tr>\n",
       "      <th>1</th>\n",
       "      <td>Манюня\\nВсё, что нужно знать об уровне юмора э...</td>\n",
       "      <td>1</td>\n",
       "    </tr>\n",
       "    <tr>\n",
       "      <th>2</th>\n",
       "      <td>Удивительный Александр и крылатые кошки\\nПочем...</td>\n",
       "      <td>1</td>\n",
       "    </tr>\n",
       "    <tr>\n",
       "      <th>3</th>\n",
       "      <td>Бездушный принц\\nЗахотелось прочитать какую-ни...</td>\n",
       "      <td>1</td>\n",
       "    </tr>\n",
       "    <tr>\n",
       "      <th>4</th>\n",
       "      <td>Душа осьминога. Тайны сознания удивительного с...</td>\n",
       "      <td>1</td>\n",
       "    </tr>\n",
       "    <tr>\n",
       "      <th>...</th>\n",
       "      <td>...</td>\n",
       "      <td>...</td>\n",
       "    </tr>\n",
       "    <tr>\n",
       "      <th>5000</th>\n",
       "      <td>Спаси меня от холода ночи\\nЖизнь деревни Каслд...</td>\n",
       "      <td>5</td>\n",
       "    </tr>\n",
       "    <tr>\n",
       "      <th>5001</th>\n",
       "      <td>Витаминка\\nКаково это быть купидоном? Это волш...</td>\n",
       "      <td>5</td>\n",
       "    </tr>\n",
       "    <tr>\n",
       "      <th>5002</th>\n",
       "      <td>Цветок в мужской академии магии\\nХотела бы рас...</td>\n",
       "      <td>5</td>\n",
       "    </tr>\n",
       "    <tr>\n",
       "      <th>5003</th>\n",
       "      <td>Господин Неудача\\nПосле загадочной гибели роди...</td>\n",
       "      <td>5</td>\n",
       "    </tr>\n",
       "    <tr>\n",
       "      <th>5004</th>\n",
       "      <td>Кай\\n\"Прежде чем войти куда-то, убедись, что т...</td>\n",
       "      <td>5</td>\n",
       "    </tr>\n",
       "  </tbody>\n",
       "</table>\n",
       "<p>5005 rows × 2 columns</p>\n",
       "</div>"
      ],
      "text/plain": [
       "                                                 review  rating\n",
       "0     Архимаг ищет невесту\\nМного читала академок, р...       1\n",
       "1     Манюня\\nВсё, что нужно знать об уровне юмора э...       1\n",
       "2     Удивительный Александр и крылатые кошки\\nПочем...       1\n",
       "3     Бездушный принц\\nЗахотелось прочитать какую-ни...       1\n",
       "4     Душа осьминога. Тайны сознания удивительного с...       1\n",
       "...                                                 ...     ...\n",
       "5000  Спаси меня от холода ночи\\nЖизнь деревни Каслд...       5\n",
       "5001  Витаминка\\nКаково это быть купидоном? Это волш...       5\n",
       "5002  Цветок в мужской академии магии\\nХотела бы рас...       5\n",
       "5003  Господин Неудача\\nПосле загадочной гибели роди...       5\n",
       "5004  Кай\\n\"Прежде чем войти куда-то, убедись, что т...       5\n",
       "\n",
       "[5005 rows x 2 columns]"
      ]
     },
     "execution_count": 6,
     "metadata": {},
     "output_type": "execute_result"
    }
   ],
   "source": [
    "print(df.isnull().sum())\n",
    "df.dropna()"
   ]
  },
  {
   "cell_type": "code",
   "execution_count": 7,
   "metadata": {},
   "outputs": [
    {
     "name": "stdout",
     "output_type": "stream",
     "text": [
      "                                              review  rating  count_word\n",
      "0  Архимаг ищет невесту\\nМного читала академок, р...       1         129\n",
      "1  Манюня\\nВсё, что нужно знать об уровне юмора э...       1          22\n",
      "2  Удивительный Александр и крылатые кошки\\nПочем...       1          25\n",
      "3  Бездушный принц\\nЗахотелось прочитать какую-ни...       1         296\n",
      "4  Душа осьминога. Тайны сознания удивительного с...       1         131\n"
     ]
    }
   ],
   "source": [
    "df['count_word'] = df['review'].apply(lambda word: len(word.split()))\n",
    "print(df.head())"
   ]
  },
  {
   "cell_type": "code",
   "execution_count": 13,
   "metadata": {},
   "outputs": [
    {
     "name": "stdout",
     "output_type": "stream",
     "text": [
      "            rating   count_word\n",
      "count  5005.000000  5005.000000\n",
      "mean      3.000000   236.367033\n",
      "std       1.414355   225.855862\n",
      "min       1.000000     2.000000\n",
      "25%       2.000000   100.000000\n",
      "50%       3.000000   182.000000\n",
      "75%       4.000000   298.000000\n",
      "max       5.000000  4221.000000\n"
     ]
    }
   ],
   "source": [
    "print(df.describe())"
   ]
  },
  {
   "cell_type": "code",
   "execution_count": 14,
   "metadata": {},
   "outputs": [
    {
     "name": "stdout",
     "output_type": "stream",
     "text": [
      "                                                 review  rating  count_word\n",
      "200   Осенняя сказка\\nОсенняя сказка (роман; Алексан...       1        1872\n",
      "837   Настёна для Зверя\\nСегодня я публикую совершен...       1        1622\n",
      "1002  Секрет небес. Яблоко раздора\\nЗнакомиться с кн...       2        2123\n",
      "1457  Смерть на винограднике\\nЭтот детектив с переиз...       2        1663\n",
      "1615  Империя тишины\\nКто-то скажет, что Адриан Марл...       2        1822\n",
      "1703  Книжные хроники Анимант Крамб\\nВсем привет, др...       2        2257\n",
      "1880  Руки, полные пепла\\nМда, ну что сказать... Всё...       2        1645\n",
      "2026  Дом с синей комнатой\\nСправедливости ради, дру...       3        2671\n",
      "2646  Скоро конец света\\nСкоро конец света (роман; М...       3        1699\n",
      "3076  Под Куполом\\nВсем привет, друзья! С вами ††Ищу...       4        2000\n",
      "3487  Манарага\\nВсем привет, друзья! С вами ††Ищущий...       4        2029\n",
      "3877  К северу от 38 параллели. Как живут в КНДР\\nКн...       4        2152\n",
      "4502  Джейн Эйр\\nВсем привет, друзья! С вами ††Ищущи...       5        2291\n",
      "4611  Дворянское гнездо\\nОднажды, Велимир Хлебников,...       5        4221\n",
      "4921  Механические птицы не поют\\n«Механические птиц...       5        1760\n"
     ]
    }
   ],
   "source": [
    "def filter_by_words(df: pd.core.frame.DataFrame, count_words: int) -> pd.core.frame.DataFrame:\n",
    "    \"\"\"\n",
    "        The function filters by reviews depending on the number of words\n",
    "    Args:\n",
    "        df (pd.core.frame.DataFrame): date frame with review and number of words\n",
    "        count_words (int): the number of words to filter\n",
    "\n",
    "    Returns:\n",
    "        pd.core.frame.DataFrame: filtered date frame with the required number of words\n",
    "    \"\"\"\n",
    "    return df[df.count_word >= count_words]\n",
    "\n",
    "print(filter_by_words(df, 1600))"
   ]
  },
  {
   "cell_type": "code",
   "execution_count": 17,
   "metadata": {},
   "outputs": [
    {
     "name": "stdout",
     "output_type": "stream",
     "text": [
      "                                                 review  rating  count_word\n",
      "0     Архимаг ищет невесту\\nМного читала академок, р...       1         129\n",
      "1     Манюня\\nВсё, что нужно знать об уровне юмора э...       1          22\n",
      "2     Удивительный Александр и крылатые кошки\\nПочем...       1          25\n",
      "3     Бездушный принц\\nЗахотелось прочитать какую-ни...       1         296\n",
      "4     Душа осьминога. Тайны сознания удивительного с...       1         131\n",
      "...                                                 ...     ...         ...\n",
      "996   Клуб убийств по четвергам\\nПервая книга в одно...       1         599\n",
      "997   Путин и Ротшильды. Игра на миллиарды\\nНесусвет...       1          39\n",
      "998   К востоку от Эдема\\nВ правде больше красоты да...       1         815\n",
      "999   Тринадцатая сказка\\nЭто одно из тех немногих п...       1          86\n",
      "1000  Прикосновение тьмы\\nИнтересно, и чего же я ожи...       1         331\n",
      "\n",
      "[1001 rows x 3 columns]\n"
     ]
    }
   ],
   "source": [
    "def filter_by_rating(df: pd.core.frame.DataFrame, count_rating: int) -> pd.core.frame.DataFrame:\n",
    "    \"\"\" The function filters by reviews depending on the rating\n",
    "\n",
    "    Args:\n",
    "        df (pd.core.frame.DataFrame): date frame with review and rating\n",
    "        count_rating (int): rating reviews for filtering\n",
    "\n",
    "    Returns:\n",
    "        pd.core.frame.DataFrame: filtered date frame with the required rating\n",
    "    \"\"\"\n",
    "    return df[df.rating == count_rating]\n",
    "\n",
    "print(filter_by_rating(df, 1))"
   ]
  },
  {
   "cell_type": "code",
   "execution_count": 32,
   "metadata": {},
   "outputs": [
    {
     "name": "stdout",
     "output_type": "stream",
     "text": [
      "       count_word                  \n",
      "              min   max        mean\n",
      "rating                             \n",
      "1               2  1872  214.963037\n",
      "2               5  2257  243.129870\n",
      "3               5  2671  238.642358\n",
      "4               6  2152  243.042957\n",
      "5               6  4221  242.056943\n"
     ]
    }
   ],
   "source": [
    "a = df.groupby('rating').agg({'count_word': ['min', 'max', 'mean']})\n",
    "print(a)"
   ]
  },
  {
   "cell_type": "code",
   "execution_count": 30,
   "metadata": {},
   "outputs": [],
   "source": [
    "def lemmatize(review: str) -> List[str]:\n",
    "    \"\"\" excludes stop words, commas and brings words to a normal appearance\n",
    "\n",
    "    Args:\n",
    "        review (str): book review\n",
    "\n",
    "    Returns:\n",
    "        List[str]: a list with words\n",
    "    \"\"\"\n",
    "    review = re.sub(patterns, ' ', review)\n",
    "    tokens = nltk.word_tokenize(review.lower())\n",
    "    preprocessed_text = []\n",
    "    for token in tokens:\n",
    "        lemma = morph.parse(token)[0].normal_form\n",
    "        if lemma not in stopwords_ru:\n",
    "            preprocessed_text.append(lemma)\n",
    "    return preprocessed_text\n",
    "\n",
    "\n",
    "def most_popular_words(df: pd.core.frame.DataFrame, rating: int) -> List[tuple[str, int]]:\n",
    "    \"\"\" the first 10 most common words according to the desired rating are found\n",
    "    Args:\n",
    "        df (pd.core.frame.DataFrame): date frame with review and rating\n",
    "        rating (int): rating reviews\n",
    "\n",
    "    Returns:\n",
    "        List[tuple[str, int]]: the word and the number of words\n",
    "    \"\"\"\n",
    "    data = df[df['rating'] == rating]['review'].apply(lemmatize)\n",
    "    words = Counter()\n",
    "    for txt in data:\n",
    "        words.update(txt)\n",
    "    return words.most_common(10)"
   ]
  },
  {
   "cell_type": "code",
   "execution_count": 31,
   "metadata": {},
   "outputs": [],
   "source": [
    "def graph_build(hist_list: List[tuple[str, int]]) -> None:\n",
    "    \"\"\" Builds a graph based on the information received\n",
    "\n",
    "    Args:\n",
    "        hist_list (List[tuple[str, int]]): list of the most popular words\n",
    "    \"\"\"\n",
    "    words = []\n",
    "    count = []\n",
    "    for i in range(len(hist_list)):\n",
    "        words.append(hist_list[i][0])\n",
    "        count.append(hist_list[i][1])\n",
    "\n",
    "    fig, ax = plt.subplots()\n",
    "\n",
    "    ax.bar(words, count)\n",
    "    ax.set_ylabel('Количество')\n",
    "    ax.set_title('Гистограмма самых популярных слов')\n",
    "    plt.show()"
   ]
  },
  {
   "cell_type": "code",
   "execution_count": 32,
   "metadata": {},
   "outputs": [
    {
     "data": {
      "image/png": "[encoded data removed]",
      "text/plain": [
       "<Figure size 640x480 with 1 Axes>"
      ]
     },
     "metadata": {},
     "output_type": "display_data"
    }
   ],
   "source": [
    "graph_build(most_popular_words(df, 3))"
   ]
  }
 ],
 "metadata": {
  "kernelspec": {
   "display_name": "base",
   "language": "python",
   "name": "python3"
  },
  "language_info": {
   "codemirror_mode": {
    "name": "ipython",
    "version": 3
   },
   "file_extension": ".py",
   "mimetype": "text/x-python",
   "name": "python",
   "nbconvert_exporter": "python",
   "pygments_lexer": "ipython3",
   "version": "3.11.4"
  }
 },
 "nbformat": 4,
 "nbformat_minor": 2
}
